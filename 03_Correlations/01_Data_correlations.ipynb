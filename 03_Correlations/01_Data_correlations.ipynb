{
 "cells": [
  {
   "cell_type": "markdown",
   "id": "16e460e7-c9e9-44be-a74f-2b6c7409aea3",
   "metadata": {},
   "source": [
    "# **Pandas: Data Correlations**\n",
    "\n",
    "## Finding Relationships  \n",
    "A great aspect of Pandas module is the `corr()` method.  \n",
    "\n",
    "The **corr()**mrthod calculates the the relationship between each column of a Data set.  \n",
    "\n",
    "We'll be testing it on our Dataset file named 'data.csv'\n"
   ]
  },
  {
   "cell_type": "code",
   "execution_count": 11,
   "id": "54275898-7c6d-4cc9-8f7c-1f91b2318457",
   "metadata": {},
   "outputs": [
    {
     "name": "stdout",
     "output_type": "stream",
     "text": [
      "     Duration  Pulse  Maxpulse  Calories\n",
      "0          60    110       130     409.1\n",
      "1          60    117       145     479.0\n",
      "2          60    103       135     340.0\n",
      "3          45    109       175     282.4\n",
      "4          45    117       148     406.0\n",
      "..        ...    ...       ...       ...\n",
      "164        60    105       140     290.8\n",
      "165        60    110       145     300.0\n",
      "166        60    115       145     310.2\n",
      "167        75    120       150     320.4\n",
      "168        75    125       150     330.4\n",
      "\n",
      "[169 rows x 4 columns]\n"
     ]
    }
   ],
   "source": [
    "import pandas as pd\n",
    "\n",
    "df = pd.read_csv('CSVs/data.csv')\n",
    "\n",
    "print(df)"
   ]
  },
  {
   "cell_type": "markdown",
   "id": "c98a8945-70b7-4825-bb1c-8fe1f9c1254a",
   "metadata": {},
   "source": [
    "Now we'll test **corr()** method on out data set, but we must make sure that thier   \n",
    "are no non-numeric entries as **corr()** works on numeric only data sets.\n",
    "\n",
    "#### Example: Using corr() on df to check for relations"
   ]
  },
  {
   "cell_type": "code",
   "execution_count": 12,
   "id": "921b03d3-c180-4ef9-87e7-30b79ecd7a2a",
   "metadata": {},
   "outputs": [
    {
     "name": "stdout",
     "output_type": "stream",
     "text": [
      "          Duration     Pulse  Maxpulse  Calories\n",
      "Duration  1.000000 -0.155408  0.009403  0.922717\n",
      "Pulse    -0.155408  1.000000  0.786535  0.025121\n",
      "Maxpulse  0.009403  0.786535  1.000000  0.203813\n",
      "Calories  0.922717  0.025121  0.203813  1.000000\n"
     ]
    }
   ],
   "source": [
    "print(df.corr())"
   ]
  },
  {
   "cell_type": "markdown",
   "id": "a527f4c1-41e7-46e1-b35b-9b680ccf0134",
   "metadata": {},
   "source": [
    "## Explaining Result\n",
    "\n",
    "The out of **corr()** is a table with bunch of numbers. These numbers represent how well  \n",
    "the relationship is between two column.  \n",
    "\n",
    "The numbers varries from -1 to 1.  \n",
    "\n",
    "- 1 means that there is a 1 to 1 relationship (a perfect correlation), and for this data set, each time a value went up in the first column, the other one went up as well.  \n",
    "\n",
    "- 0.9 is also a good relationship, and if you increase one value, the other will probably increase as well.  \n",
    "\n",
    "- -0.9 would be just as good relationship as 0.9, but if you increase one value, the other will probably go down.  \n",
    "\n",
    "- 0.2 means NOT a good relationship, meaning that if one value goes up does not mean that the other will.\n",
    "\n",
    "\n",
    "\n",
    "**What is good correlation?** It depends on the use, but in general at least `0.6` (or `-0.6`)  \n",
    "would be enough to call it a good correlation.\n",
    "\n",
    "### Perfect Correlation\n",
    "\n",
    "We can see that the correlation between the same columns is `1.000000`, which is called perfect  \n",
    "correlation, which also makes sense since both are exactly the same.  \n",
    "\n",
    "### Good Correlation\n",
    "\n",
    "'Duration' and 'Calories' got a `0.922721` correlation, which is a very good correlation, and we  \n",
    "can relate it as the longer you work out the more calories you burn, and vice versa.  \n",
    "\n",
    "### Bad Correlation\n",
    "\n",
    "'Duration' and 'Maxpulse' got a `0.009403` correlation, which is a bad correlation, meaning we  \n",
    "can not predict maxpulse by just looking at duration of the work out, and vice versa.  \n"
   ]
  }
 ],
 "metadata": {
  "kernelspec": {
   "display_name": "Python 3 (ipykernel)",
   "language": "python",
   "name": "python3"
  },
  "language_info": {
   "codemirror_mode": {
    "name": "ipython",
    "version": 3
   },
   "file_extension": ".py",
   "mimetype": "text/x-python",
   "name": "python",
   "nbconvert_exporter": "python",
   "pygments_lexer": "ipython3",
   "version": "3.12.5"
  }
 },
 "nbformat": 4,
 "nbformat_minor": 5
}
