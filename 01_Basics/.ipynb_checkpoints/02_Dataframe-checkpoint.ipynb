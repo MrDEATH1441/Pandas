{
 "cells": [
  {
   "cell_type": "markdown",
   "id": "4ff1d7d4-717c-4d0a-af7f-3e26f0618562",
   "metadata": {},
   "source": [
    "# Pandas Dataframes\n",
    "\n",
    "## What is a Dataframe?\n",
    "A Pandas Dataframe is a 2-dimensional data structure, like a 2-dim array, or a table  \n",
    "with rows and columns.  \n",
    "\n",
    "#### Example: Creating a Dataframe using py Dict"
   ]
  },
  {
   "cell_type": "code",
   "execution_count": 1,
   "id": "ec3cafb2-a83c-41b7-8dba-626978617ce9",
   "metadata": {},
   "outputs": [
    {
     "name": "stdout",
     "output_type": "stream",
     "text": [
      "   calories  duration\n",
      "0       420        50\n",
      "1       280        40\n",
      "2       390        45\n"
     ]
    }
   ],
   "source": [
    "import pandas as pd\n",
    "\n",
    "#python dict\n",
    "data = {\n",
    "    \"calories\": [420, 280, 390],\n",
    "    \"duration\":[50, 40, 45]\n",
    "}\n",
    "\n",
    "#creating a dataframe object\n",
    "df = pd.DataFrame(data)\n",
    "\n",
    "print(df)"
   ]
  },
  {
   "cell_type": "markdown",
   "id": "94754901-1297-4492-bbdd-4518c192a31b",
   "metadata": {},
   "source": [
    "## Locate a Row\n",
    "As show above a pandas dataframe is a tablular structure with rows and columns.  \n",
    "Pandas uses a `loc` attribute to return one or more specified row(s).  \n",
    "\n",
    "#### Example: Printing the 1st row"
   ]
  },
  {
   "cell_type": "code",
   "execution_count": 8,
   "id": "2e6099db-3d85-42a1-b023-30aeb10f4127",
   "metadata": {},
   "outputs": [
    {
     "name": "stdout",
     "output_type": "stream",
     "text": [
      "calories    420\n",
      "duration     50\n",
      "Name: 0, dtype: int64\n"
     ]
    }
   ],
   "source": [
    "print(df.loc[0])"
   ]
  },
  {
   "cell_type": "markdown",
   "id": "6ee234bf-62b3-4e5f-a679-a7f2ed1d16d9",
   "metadata": {},
   "source": [
    "#### Example: Printing 2 rows"
   ]
  },
  {
   "cell_type": "code",
   "execution_count": 11,
   "id": "0d6b2fdf-678e-4700-9756-0e961fe87e79",
   "metadata": {},
   "outputs": [
    {
     "name": "stdout",
     "output_type": "stream",
     "text": [
      "   calories  duration\n",
      "1       280        40\n",
      "2       390        45\n"
     ]
    }
   ],
   "source": [
    "print(df.loc[[1,2]])"
   ]
  },
  {
   "cell_type": "markdown",
   "id": "878dbfa9-ab35-4208-ac45-dec33551e624",
   "metadata": {},
   "source": [
    "## Loading Files Into a Dataframes\n",
    "We can also create dataframe from stored '.csv' files using `read_csv` method.  \n",
    "It take file name/location as argument, where the location is relative. \n",
    "\n",
    "#### Example: Loading \"Dates.csv\"\n"
   ]
  },
  {
   "cell_type": "code",
   "execution_count": null,
   "id": "d65260fc-1b2a-4b13-a3d4-d5151d2b42d3",
   "metadata": {},
   "outputs": [],
   "source": [
    "df = pd.read_csv('')"
   ]
  }
 ],
 "metadata": {
  "kernelspec": {
   "display_name": "Python 3 (ipykernel)",
   "language": "python",
   "name": "python3"
  },
  "language_info": {
   "codemirror_mode": {
    "name": "ipython",
    "version": 3
   },
   "file_extension": ".py",
   "mimetype": "text/x-python",
   "name": "python",
   "nbconvert_exporter": "python",
   "pygments_lexer": "ipython3",
   "version": "3.12.5"
  }
 },
 "nbformat": 4,
 "nbformat_minor": 5
}
