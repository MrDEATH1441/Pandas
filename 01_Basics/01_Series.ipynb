{
 "cells": [
  {
   "cell_type": "markdown",
   "id": "a2fbe706-8bb7-461e-a977-c52eb72ea97e",
   "metadata": {},
   "source": [
    "# **Pandas Series**\n",
    "\n",
    "## What is Series?\n",
    "Pandas Series is like a column in a table.  \n",
    "It is a one-dimension array holding data of any one type. Represented in tabular structure.\n",
    "\n",
    "#### Example: Creating a simple pandas series from a py list"
   ]
  },
  {
   "cell_type": "code",
   "execution_count": 6,
   "id": "2318bb21-5c85-4497-9b1d-ee323cd8c059",
   "metadata": {},
   "outputs": [
    {
     "name": "stdout",
     "output_type": "stream",
     "text": [
      "0    2\n",
      "1    4\n",
      "2    1\n",
      "3    5\n",
      "4    3\n",
      "dtype: int64\n"
     ]
    }
   ],
   "source": [
    "#importing pandas\n",
    "import pandas as pd\n",
    "\n",
    "#creating py list\n",
    "snacks = [2,4,1,5,3]\n",
    "\n",
    "#creating pandas series\n",
    "my_snacks = pd.Series(snacks)\n",
    "\n",
    "print(my_snacks)"
   ]
  },
  {
   "cell_type": "markdown",
   "id": "c49d7b9b-ff37-466d-8614-2bc696630909",
   "metadata": {},
   "source": [
    "## Lables\n",
    "If nothing else is specified, the values are labeled with thier index no. First value has  \n",
    "index 0, second value has index 1 etc.  \n",
    "\n",
    "The lable can be used to access a specifies value.  \n",
    "\n",
    "#### Example: Accessing element using lable (indexing)"
   ]
  },
  {
   "cell_type": "code",
   "execution_count": 7,
   "id": "8733fd5f-5a7f-47e1-a94d-6a8ed13ddf10",
   "metadata": {},
   "outputs": [
    {
     "name": "stdout",
     "output_type": "stream",
     "text": [
      "1\n"
     ]
    }
   ],
   "source": [
    "#accessing the item at index 2\n",
    "print(snacks[2])"
   ]
  },
  {
   "cell_type": "markdown",
   "id": "67986089-a706-4962-a569-99fc8b846ad7",
   "metadata": {},
   "source": [
    "## Create Lables\n",
    "With the `index` argument, you can write your own lable.\n",
    "\n",
    "#### Example: Creating user defined lables using index arg"
   ]
  },
  {
   "cell_type": "code",
   "execution_count": 8,
   "id": "36a07074-968f-4e7c-a98c-a8a39c35a3ae",
   "metadata": {},
   "outputs": [
    {
     "name": "stdout",
     "output_type": "stream",
     "text": [
      "Somi      2\n",
      "Sanno     4\n",
      "Banno     1\n",
      "Sachin    5\n",
      "Sakshi    3\n",
      "dtype: int64\n"
     ]
    }
   ],
   "source": [
    "#creating py list\n",
    "snacks = [2,4,1,5,3]\n",
    "\n",
    "#creating lables\n",
    "snacks_list = pd.Series(snacks, index = [\"Somi\",\"Sanno\",\"Banno\",\"Sachin\",\"Sakshi\"])\n",
    "\n",
    "print(snacks_list)"
   ]
  },
  {
   "cell_type": "markdown",
   "id": "d89ca281-85d1-4943-92df-a434f65e93c6",
   "metadata": {},
   "source": [
    "## Key/Value Objects as Series\n",
    "We can also use key/value objects like Dicts to create Panda series,  \n",
    "keys are assigned as lables and values as items.  \n",
    "\n",
    "#### Example: Creating a Pandas series using py dict"
   ]
  },
  {
   "cell_type": "code",
   "execution_count": 9,
   "id": "4262c599-5439-4fd6-b119-a9acb24d76cd",
   "metadata": {},
   "outputs": [
    {
     "name": "stdout",
     "output_type": "stream",
     "text": [
      "1    Sachin\n",
      "2    Sakshi\n",
      "3     Sahil\n",
      "4     Ankit\n",
      "dtype: object\n"
     ]
    }
   ],
   "source": [
    "#creating py dict\n",
    "guests = {1:'Sachin', 2:'Sakshi', 3:'Sahil', 4:'Ankit'}\n",
    "\n",
    "#creating pd series\n",
    "guest_list = pd.Series(guests)\n",
    "\n",
    "print(guest_list)"
   ]
  }
 ],
 "metadata": {
  "kernelspec": {
   "display_name": "Python 3 (ipykernel)",
   "language": "python",
   "name": "python3"
  },
  "language_info": {
   "codemirror_mode": {
    "name": "ipython",
    "version": 3
   },
   "file_extension": ".py",
   "mimetype": "text/x-python",
   "name": "python",
   "nbconvert_exporter": "python",
   "pygments_lexer": "ipython3",
   "version": "3.12.5"
  }
 },
 "nbformat": 4,
 "nbformat_minor": 5
}
