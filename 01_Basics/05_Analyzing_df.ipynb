{
 "cells": [
  {
   "cell_type": "markdown",
   "id": "8f422066-1df9-475e-9bb5-51fea67cf10e",
   "metadata": {},
   "source": [
    "# **Pandas: Analyzing DataFrames**  \n",
    "\n",
    "## Viewing the Data \n",
    "One of the most used method for getting a quick overview of the DataFrame, is the **head()** method.  \n",
    "The **head()** method returns the headers and specific number of rows, strting from top.  \n",
    "\n",
    "#### Example: Using head() on data.csv"
   ]
  },
  {
   "cell_type": "code",
   "execution_count": 1,
   "id": "a2bc7285-f3dc-4e2c-baec-c4fcff1a3f01",
   "metadata": {},
   "outputs": [
    {
     "name": "stdout",
     "output_type": "stream",
     "text": [
      "   Duration  Pulse  Maxpulse  Calories\n",
      "0        60    110       130     409.1\n",
      "1        60    117       145     479.0\n",
      "2        60    103       135     340.0\n"
     ]
    }
   ],
   "source": [
    "import pandas as pd\n",
    "\n",
    "#loading csv\n",
    "df = pd.read_csv('CSVs/data.csv')\n",
    "\n",
    "#print first 3 rows using head()\n",
    "print(df.head(3))"
   ]
  },
  {
   "cell_type": "markdown",
   "id": "f8abe41a-7c2a-4119-8464-45a6b3bd07f5",
   "metadata": {},
   "source": [
    "Similarly, there is **tail()** method, which returns specific number of rows from last.  \n",
    "\n",
    "#### Example: Using tail() on data.csv"
   ]
  },
  {
   "cell_type": "code",
   "execution_count": 4,
   "id": "b5e5f98f-e91b-4308-b0ad-a68099fd6772",
   "metadata": {},
   "outputs": [
    {
     "name": "stdout",
     "output_type": "stream",
     "text": [
      "     Duration  Pulse  Maxpulse  Calories\n",
      "166        60    115       145     310.2\n",
      "167        75    120       150     320.4\n",
      "168        75    125       150     330.4\n"
     ]
    }
   ],
   "source": [
    "#print last 3 rows using tail()\n",
    "print(df.tail(3))"
   ]
  },
  {
   "cell_type": "markdown",
   "id": "241b2c50-9a0d-4131-bba4-425fac0f27a2",
   "metadata": {},
   "source": [
    "## Info About the Data\n",
    "The DataFrames object has a method called **info()**, that gives you more information  \n",
    "about the data set.  \n",
    "\n",
    "It prints the info and returns `None`.\n",
    "\n",
    "#### Example: Pirnting Info() of data.csv"
   ]
  },
  {
   "cell_type": "code",
   "execution_count": 6,
   "id": "e3941abd-5e98-4ff4-aa98-da34e426ad37",
   "metadata": {},
   "outputs": [
    {
     "name": "stdout",
     "output_type": "stream",
     "text": [
      "<class 'pandas.core.frame.DataFrame'>\n",
      "RangeIndex: 169 entries, 0 to 168\n",
      "Data columns (total 4 columns):\n",
      " #   Column    Non-Null Count  Dtype  \n",
      "---  ------    --------------  -----  \n",
      " 0   Duration  169 non-null    int64  \n",
      " 1   Pulse     169 non-null    int64  \n",
      " 2   Maxpulse  169 non-null    int64  \n",
      " 3   Calories  164 non-null    float64\n",
      "dtypes: float64(1), int64(3)\n",
      "memory usage: 5.4 KB\n"
     ]
    }
   ],
   "source": [
    "#using info()\n",
    "df.info()"
   ]
  },
  {
   "cell_type": "markdown",
   "id": "4f9d9b2b-4086-4334-a26e-768f519f6819",
   "metadata": {},
   "source": [
    "### Explanation:\n",
    "\n",
    "The output gives us crucial info such as:\n",
    "- RangeIndex (No of rows)\n",
    "- Data Columns (No of columns)\n",
    "- Name of each column\n",
    "- Non-null Count (Number of Non-empty rows)\n",
    "- Data Types\n",
    "- Memory usage (Size)"
   ]
  },
  {
   "cell_type": "markdown",
   "id": "f4e64a38-fe71-4d88-9fb4-3863ec644724",
   "metadata": {},
   "source": [
    "## Null Values\n",
    "The **info()** method also tells us how many Non-Null values there are present in each column, and in our data set it seems like there are 164 of 169 Non-Null values in the \"Calories\" column.\n",
    "\n",
    "Which means that there are 5 rows with no value at all, in the \"Calories\" column, for whatever reason.\n",
    "\n",
    "Empty values, or Null values, can be bad when analyzing data, and you should consider removing rows with empty values. This is a step towards what is called cleaning data, and you will learn more about that in the next chapters."
   ]
  }
 ],
 "metadata": {
  "kernelspec": {
   "display_name": "Python 3 (ipykernel)",
   "language": "python",
   "name": "python3"
  },
  "language_info": {
   "codemirror_mode": {
    "name": "ipython",
    "version": 3
   },
   "file_extension": ".py",
   "mimetype": "text/x-python",
   "name": "python",
   "nbconvert_exporter": "python",
   "pygments_lexer": "ipython3",
   "version": "3.12.5"
  }
 },
 "nbformat": 4,
 "nbformat_minor": 5
}
