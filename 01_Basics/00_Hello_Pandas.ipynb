{
 "cells": [
  {
   "cell_type": "markdown",
   "id": "b8f02270-717a-4151-9fa1-bef583d5d368",
   "metadata": {},
   "source": [
    "# **Pandas: A Beginner's Guide**"
   ]
  },
  {
   "cell_type": "markdown",
   "id": "2bd60241-b650-4beb-af2d-a43587874b85",
   "metadata": {},
   "source": [
    "## 🐼 What is Pandas?\n",
    "\n",
    "Pandas is a Python library used to work with structured data (i.e, Tables, Spreadsheets, or CSV files).  \n",
    "It provides fast, flexible, and expressive tools for:\n",
    "- Loading data\n",
    "- Cleaning data\n",
    "- Analyzing and summarizing data\n",
    "- Manuplating tables (filterring, sorting, grouping, etc.)"
   ]
  },
  {
   "cell_type": "markdown",
   "id": "5cc77c02-8e85-414b-81e2-afdce2a801d0",
   "metadata": {},
   "source": [
    "## 📦 Importing Pandas\n",
    "Pandas is commonly imported as `pd`."
   ]
  },
  {
   "cell_type": "code",
   "execution_count": 1,
   "id": "1fa0a965-b1a7-44e0-bbe8-fc5f2168f3ff",
   "metadata": {},
   "outputs": [],
   "source": [
    "# importing pandas\n",
    "import pandas as pd"
   ]
  },
  {
   "cell_type": "markdown",
   "id": "2c374294-54a7-4dac-a9bd-b7d8b67c9a42",
   "metadata": {},
   "source": [
    "## 🔗 Appendix\n",
    "\n",
    "The following is a table containing the basic terms used in pandas:\n",
    "\n",
    "| Term          | Description                          |\n",
    "| ------------- | ------------------------------------ |\n",
    "| Series        | 1D labeled array                     |\n",
    "| DataFrame     | 2D table of Series                   |\n",
    "| Index         | Row labels                           |\n",
    "| Column        | A named Series in a DataFrame        |\n",
    "| Row           | One record or observation            |\n",
    "| NaN (Not A Number)| Missing data marker                  |\n",
    "| Boolean Mask  | Filtering data with conditions       |\n",
    "| GroupBy       | Grouping data for aggregation        |\n",
    "| Aggregation   | Summarizing groups (mean, sum, etc.) |\n",
    "| Vectorization | Fast operations over entire columns  |\n"
   ]
  }
 ],
 "metadata": {
  "kernelspec": {
   "display_name": "Python 3 (ipykernel)",
   "language": "python",
   "name": "python3"
  },
  "language_info": {
   "codemirror_mode": {
    "name": "ipython",
    "version": 3
   },
   "file_extension": ".py",
   "mimetype": "text/x-python",
   "name": "python",
   "nbconvert_exporter": "python",
   "pygments_lexer": "ipython3",
   "version": "3.12.5"
  }
 },
 "nbformat": 4,
 "nbformat_minor": 5
}
